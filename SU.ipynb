{
 "cells": [
  {
   "cell_type": "markdown",
   "metadata": {},
   "source": [
    "## Abstract\n",
    "\n",
    "The notebook contains as simple class (SU) representating arbitrary 3D rotation and reflection operators in the basis of the common eigenvectors of $\\hat{L}^2$ and $\\hat{L}_z$. "
   ]
  },
  {
   "cell_type": "code",
   "execution_count": 32,
   "metadata": {},
   "outputs": [],
   "source": [
    "import numpy as np\n",
    "\n",
    "class SU:\n",
    "    # Class represents the group of all rotations in \n",
    "    # 3D space on a space of angular momentum functions\n",
    "    \n",
    "    def __init__(self, L):\n",
    "        # Do some sanity checks\n",
    "        assert L >= 0\n",
    "        self.L = int(L)\n",
    "        \n",
    "        # Calculate the generator matrices (L_x, L_y, L_z)\n",
    "        self.Lz = np.diag([m for m in range(-L, L + 1)])\n",
    "        Lp = np.diag([ np.sqrt(L*(L + 1) - m * (m + 1)) for m in range(-L, L)], k = -1)\n",
    "        Lm = np.diag([ np.sqrt(L*(L + 1) - m * (m - 1)) for m in range(-L + 1, L + 1)], k = +1)\n",
    "        self.Lx = 0.5 * (Lp + Lm)\n",
    "        self.Ly = -0.5j * (Lp - Lm)\n",
    "        \n",
    "               \n",
    "        # Make sure  that everything is correct and basic properties \n",
    "        # of Lx, Ly and Lz are satisfied\n",
    "        # 1. Is the shape correct?\n",
    "        assert self.Lx.shape == (2*L + 1, 2*L + 1) and self.Ly.shape == (2*L + 1, 2*L + 1) and self.Lz.shape == (2*L + 1, 2*L + 1)\n",
    "        # 2. Are they hermitian?\n",
    "                \n",
    "        assert np.allclose(self.Lx, np.conj(self.Lx.T)) and np.allclose(self.Ly, np.conj(self.Ly.T)) and np.allclose(self.Lz, np.conj(self.Lz.T))\n",
    "        \n",
    "        # 3. Diagonalize and check that the eigenvalues are correct\n",
    "        m_ref = np.array([m for m in range(-L, L + 1)], dtype=np.float64)\n",
    "        zero = np.zeros(2*L + 1)\n",
    "        \n",
    "        mx = np.linalg.eigvalsh(self.Lx)\n",
    "        mx_re = np.sort(np.real(mx))\n",
    "        my = np.linalg.eigvalsh(self.Ly)\n",
    "        my_re = np.sort(np.real(my))\n",
    "        mz = np.linalg.eigvalsh(self.Lz)\n",
    "        mz_re = np.sort(np.real(mz))\n",
    "        \n",
    "        assert np.allclose(mx_re, m_ref) and np.allclose(my_re, m_ref) and np.allclose(mz_re, m_ref)\n",
    "        assert np.allclose(zero, np.imag(mx)) and np.allclose(zero, np.imag(my)) and np.allclose(zero, np.imag(mz))\n",
    "        \n",
    "        # Reference reflection matrix (corresponds to XY plane: theta -> pi - theta)\n",
    "        self.SigmaXY = np.diag([(-1)**(L + m) for m in range(-L, L + 1)])\n",
    "        \n",
    "        \n",
    "    def gen_op(self, ang, ax, op_type = 'Cn'):\n",
    "        # Returns the matrix of the operator\n",
    "        # represented in the basis of angular\n",
    "        # momentum functions\n",
    "        # ang (double)   - rotation angle in rad; relevant for rotation operators\n",
    "        # ax (double[3]) - direction of the rotation axis (for rotation operators)/normal vector to the mirror plane \n",
    "        # op_typ (char)    - 'rot' (rotation), 'ref' (reflection)\n",
    "        \n",
    "        ax = np.asarray(ax)\n",
    "        ax = ax / np.sqrt(np.sum(ax**2)) # normalize\n",
    "        ang = np.abs(ang)\n",
    "        \n",
    "        assert len(ax) == 3 and ang < 2. * np.pi\n",
    "        \n",
    "        if op_type == 'Cn':\n",
    "            return self._rotation(ang, ax)\n",
    "        elif op_type == 'Sigma':\n",
    "            return self._reflection(ax)\n",
    "        elif op_type == 'Sn':\n",
    "            return np.dot(self._reflection(ax), self._rotation(ang, ax))\n",
    "        else:\n",
    "            print(\"Operator type is not recognized; please specifiy either rotation (rot) or reflection (ref).\")\n",
    "            \n",
    "    def _rotation(self, ang, ax):\n",
    "        # The ax (axis) vector is assumed to be normalized\n",
    "        \n",
    "        M = ax[0] * self.Lx + ax[1] * self.Ly + ax[2] * self.Lz\n",
    "        e, v = np.linalg.eigh(M)\n",
    "        R = np.einsum(\"ij,jk,kl->il\", v, np.diag(np.exp(-1.j * ang * e)), np.conj(v.T))\n",
    "            \n",
    "        return R\n",
    "                    \n",
    "    def _reflection(self, ax):\n",
    "        # The normal vector to the plane is assumed to be normalized\n",
    "        \n",
    "        if ax[2] < 0:\n",
    "            ax = -ax\n",
    "        \n",
    "        ax_XY = np.array([0., 0., 1.])\n",
    "        ang = np.dot(ax_XY, ax) / (np.sqrt(np.sum(ax**2)))\n",
    "        rot_ax = np.cross(ax_XY, ax)\n",
    "        rot_ax = rot_ax / np.sqrt(np.dot(rot_ax, rot_ax)) # positive rotation angle corresponds to the rotation \n",
    "                                                          # __from__ the XY plane to the plane defined by ax\n",
    "        \n",
    "        return np.einsum(\"ij, jk, kl-> il\", self._rotation(ang, rot_ax), self.SigmaXY, self._rotation(-ang, rot_ax))\n",
    "        \n",
    "       "
   ]
  },
  {
   "cell_type": "code",
   "execution_count": 49,
   "metadata": {},
   "outputs": [
    {
     "name": "stdout",
     "output_type": "stream",
     "text": [
      " chi * A = 1.9999999999999996\n",
      " chi * B1 = 1.0000000000000004\n",
      " chi * B2 = 1.0\n",
      " chi * B3 = 1.0\n"
     ]
    }
   ],
   "source": [
    "L = 2 # Will look at D-term\n",
    "\n",
    "# Create a generator\n",
    "D = SU(L)\n",
    "\n",
    "# This will represent an instance of the Abelian D2 group\n",
    "E = np.eye(2*L + 1)\n",
    "Cz = D.gen_op(np.pi, [0., 0,  1.])\n",
    "Cx = D.gen_op(np.pi, [1., 0, 0])\n",
    "Cy = D.gen_op(np.pi, [0., 1., 0])\n",
    "\n",
    "D2_group = [E, Cz, Cy, Cx]\n",
    "\n",
    "# Character table of the D2 can be found on-line at https://www.webqc.org/symmetrypointgroup-d2.html\n",
    "# It is not hard to see that D term will have the following splitting in D2 field\n",
    "# D = 2A + B1 + B2 + B3\n",
    "# Below, I will verify that explicitly and will assign the basis functions to the symmetry types\n",
    "\n",
    "character_table_D2 = {'A': np.ones(len(D2_group)), 'B1' : np.array([1, 1, -1, -1]), 'B2' : np.array([1, -1, 1, -1]), 'B3' : np.array([1, -1, -1, 1]) }\n",
    "\n",
    "# First calculate the character of D representation in group D2\n",
    "\n",
    "chi = []\n",
    "for op in D2_group:\n",
    "    chi.append(np.real(np.einsum(\"ii->\", op)))\n",
    "\n",
    "chi = np.array(chi)\n",
    "#print(chi)\n",
    "# Perform dot-product of chi with the characters of irreducible representations \n",
    "\n",
    "thresh = 1e-6\n",
    "\n",
    "for ichar in character_table_D2:\n",
    "    ch = character_table_D2[ichar]\n",
    "    #print(ch)\n",
    "    dp = ch[0] / len(D2_group) * np.dot(ch, chi)\n",
    "    print(\" chi * %s = %s\" % (ichar, dp))\n",
    "    \n",
    "proj_operators = {}\n",
    "\n",
    "for ichar in character_table_D2:\n",
    "    ch = character_table_D2[ichar]\n",
    "    P = np.zeros((2*L + 1, 2*L + 1), dtype=np.complex128)\n",
    "    for i in range(len(D2_group)):\n",
    "        P += (ch[i] * D2_group[i])\n",
    "    proj_operators[ichar] = P\n",
    "    \n",
    " "
   ]
  },
  {
   "cell_type": "code",
   "execution_count": 50,
   "metadata": {},
   "outputs": [
    {
     "name": "stdout",
     "output_type": "stream",
     "text": [
      "[[ 2.00000000e+00  1.11022302e-16  0.00000000e+00  1.14942098e-15\n",
      "   2.00000000e+00]\n",
      " [ 3.33066907e-16  1.11022302e-16 -1.56523910e-15  0.00000000e+00\n",
      "   1.35758779e-15]\n",
      " [ 0.00000000e+00  1.45421679e-15  4.00000000e+00 -1.39870564e-15\n",
      "   0.00000000e+00]\n",
      " [-1.09390983e-15  0.00000000e+00  1.62075025e-15 -1.77635684e-15\n",
      "  -2.22044605e-16]\n",
      " [ 2.00000000e+00 -8.85743009e-16  0.00000000e+00 -4.93038066e-31\n",
      "   2.00000000e+00]]\n"
     ]
    }
   ],
   "source": [
    "# After the projection operators are calculated we can explore the structure of the \n",
    "# symmetry types in a bit more detail\n",
    "\n",
    "# E.g. A \n",
    "print(np.real(proj_operators['A']))"
   ]
  },
  {
   "cell_type": "markdown",
   "metadata": {},
   "source": [
    "There are two functions of A type $| A; 1 \\rangle = | 2, -2 \\rangle + | 2, -2 \\rangle$ and $| A; 2 \\rangle = | 2, 0\\rangle$"
   ]
  },
  {
   "cell_type": "code",
   "execution_count": 51,
   "metadata": {},
   "outputs": [
    {
     "name": "stdout",
     "output_type": "stream",
     "text": [
      "[ 2.00000000e+00  3.33066907e-16  0.00000000e+00 -1.09390983e-15\n",
      "  2.00000000e+00]\n"
     ]
    }
   ],
   "source": [
    "print(np.real(proj_operators['A'])[:,0])"
   ]
  },
  {
   "cell_type": "code",
   "execution_count": null,
   "metadata": {},
   "outputs": [],
   "source": []
  }
 ],
 "metadata": {
  "kernelspec": {
   "display_name": "Python 3",
   "language": "python",
   "name": "python3"
  },
  "language_info": {
   "codemirror_mode": {
    "name": "ipython",
    "version": 3
   },
   "file_extension": ".py",
   "mimetype": "text/x-python",
   "name": "python",
   "nbconvert_exporter": "python",
   "pygments_lexer": "ipython3",
   "version": "3.6.8"
  }
 },
 "nbformat": 4,
 "nbformat_minor": 2
}
